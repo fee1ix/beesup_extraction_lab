{
 "cells": [
  {
   "cell_type": "code",
   "execution_count": 1,
   "metadata": {},
   "outputs": [],
   "source": [
    "import os\n",
    "import sys\n",
    "import pandas as pd\n",
    "\n",
    "sys.path.append('/home/fboehning/fboehning')"
   ]
  },
  {
   "cell_type": "code",
   "execution_count": 2,
   "metadata": {},
   "outputs": [
    {
     "data": {
      "text/html": [
       "\n",
       "<style type='text/css'>\n",
       ".dataframe th, .dataframe td {\n",
       "    white-space: nowrap;\n",
       "    text-align: left;\n",
       "    padding: 4px;\n",
       "    line-height: 1; /* This sets the line height to one */\n",
       "}\n",
       "</style>\n",
       "    "
      ],
      "text/plain": [
       "<IPython.core.display.HTML object>"
      ]
     },
     "metadata": {},
     "output_type": "display_data"
    }
   ],
   "source": [
    "# IMPORT: labtools\n",
    "import labtools\n",
    "from labtools.labhandler import *\n",
    "from labtools.datahandle import *\n",
    "from labtools.display_utils import *\n",
    "from labtools.directory_utils import *\n",
    "from labtools.dictionary_utils import *\n",
    "\n",
    "set_display_for_dataframe()\n",
    "pd.set_option('display.max_rows', 7)"
   ]
  },
  {
   "cell_type": "code",
   "execution_count": 3,
   "metadata": {},
   "outputs": [],
   "source": [
    "# IMPORT: beesup_llm\n",
    "# import beesup_llm\n",
    "# import beesup_llm.toolkit.llm_utils; from beesup_llm.toolkit.llm_utils import *\n",
    "# import beesup_llm.toolkit.dict_utils; from beesup_llm.toolkit.dict_utils import *\n",
    "# import beesup_llm.toolkit.setup_utils; from beesup_llm.toolkit.setup_utils import *\n",
    "# #import beesup_llm.toolkit.visualization; from beesup_llm.toolkit.visualization import *\n",
    "# #import beesup_llm.toolkit.display_settings; from beesup_llm.toolkit.display_settings import *\n",
    "# import beesup_llm.toolkit.retrieval_metrics; from beesup_llm.toolkit.retrieval_metrics import *\n",
    "\n",
    "\n",
    "# import beesup_llm.dataset; from beesup_llm.dataset import *\n",
    "\n",
    "#import beesup_llm.model_pipelines; from beesup_llm.model_pipelines import *\n",
    "#import beesup_llm.finetuning_pipelines; from beesup_llm.finetuning_pipelines import *\n",
    "\n",
    "#import beesup_llm.experiment; from beesup_llm.experiment import *\n",
    "\n",
    "#import beesup_llm.injection.taxomizer; from beesup_llm.injection.taxomizer import *\n",
    "#import beesup_llm.injection.rag_pipeline; from beesup_llm.injection.rag_pipeline import *\n",
    "#import beesup_llm.injection.taxomizer_utils; from beesup_llm.injection.taxomizer_utils import * \n",
    "#import beesup_llm.injection.injection_experiment; from beesup_llm.injection.injection_experiment import *\n",
    "\n",
    "import beesup_llm.llm; from beesup_llm.llm import *\n",
    "import beesup_llm.emb; from beesup_llm.emb import *\n",
    "\n",
    "import beesup_llm.extraction; from beesup_llm.extraction import *\n",
    "import beesup_llm.extraction.extraction_pipeline; from beesup_llm.extraction.extraction_pipeline import *\n",
    "import beesup_llm.extraction.extraction_experiment; from beesup_llm.extraction.extraction_experiment import *"
   ]
  },
  {
   "cell_type": "code",
   "execution_count": 4,
   "metadata": {},
   "outputs": [],
   "source": [
    "import importlib\n",
    "prefixpaths=['labtools','beesup_llm']\n",
    "\n",
    "def get_modules_with_prefixpath(prefixpaths):\n",
    "    if isinstance(prefixpaths, str):\n",
    "        prefixpaths = [prefixpaths]\n",
    "\n",
    "    modules=dict()\n",
    "    all_modules = sys.modules.copy()\n",
    "    for prefixpath in prefixpaths:\n",
    "        for module_path, module in all_modules.items():\n",
    "            if module_path.startswith(prefixpath):\n",
    "                modules[module_path] = module\n",
    "\n",
    "    return modules\n",
    "\n",
    "def reimport(prefixpaths=prefixpaths):\n",
    "    for module_path, module in get_modules_with_prefixpath(prefixpaths).items():\n",
    "        importlib.reload(sys.modules[module_path])\n",
    "        globals().update({name: getattr(module, name) for name in dir(module) if not name.startswith('_')})\n",
    "\n",
    "LOGGING_FORMAT='%(asctime)s - %(filename)s - %(name)s - %(funcName)s - %(levelname)s - %(message)s'\n",
    "\n",
    "import logging\n",
    "logging.basicConfig(\n",
    "    level=logging.INFO,\n",
    "    format=LOGGING_FORMAT)\n",
    "\n",
    "def set_info(prefixpaths=prefixpaths):\n",
    "    for module_path in get_modules_with_prefixpath(prefixpaths).keys():\n",
    "        logger = logging.getLogger(module_path)\n",
    "        logger.setLevel(logging.INFO)\n",
    "        logging.getLogger().setLevel(logging.INFO)\n",
    "\n",
    "def set_debug(prefixpaths=prefixpaths):\n",
    "    for module_path in get_modules_with_prefixpath(prefixpaths).keys():\n",
    "        logger = logging.getLogger(module_path)\n",
    "        logger.setLevel(logging.DEBUG)\n",
    "        logging.getLogger().setLevel(logging.DEBUG)\n",
    "\n",
    "set_info() "
   ]
  },
  {
   "cell_type": "code",
   "execution_count": 5,
   "metadata": {},
   "outputs": [
    {
     "data": {
      "text/html": [
       "<div>\n",
       "<style scoped>\n",
       "    .dataframe tbody tr th:only-of-type {\n",
       "        vertical-align: middle;\n",
       "    }\n",
       "\n",
       "    .dataframe tbody tr th {\n",
       "        vertical-align: top;\n",
       "    }\n",
       "\n",
       "    .dataframe thead th {\n",
       "        text-align: right;\n",
       "    }\n",
       "</style>\n",
       "<table border=\"1\" class=\"dataframe\">\n",
       "  <thead>\n",
       "    <tr style=\"text-align: right;\">\n",
       "      <th></th>\n",
       "      <th>report_passage</th>\n",
       "      <th>report_scheme</th>\n",
       "      <th>gold_completion</th>\n",
       "      <th>source</th>\n",
       "      <th>is_real</th>\n",
       "      <th>split</th>\n",
       "    </tr>\n",
       "  </thead>\n",
       "  <tbody>\n",
       "    <tr>\n",
       "      <th>0</th>\n",
       "      <td>Beitrag zur Hautflüglerfauna von Bran-\\ndenbur...</td>\n",
       "      <td>paragraphs</td>\n",
       "      <td>```json\\n{\\n  \"meta_scientific_name\": \"Andrena...</td>\n",
       "      <td>https://www.zobodat.at/pdf/Maerkische-Ent-Nach...</td>\n",
       "      <td>True</td>\n",
       "      <td>train</td>\n",
       "    </tr>\n",
       "    <tr>\n",
       "      <th>1</th>\n",
       "      <td>Christoph Saure\\n\\nHoplitis villosa (Schenck, ...</td>\n",
       "      <td>paragraphs</td>\n",
       "      <td>```json\\n{\\n  \"meta_location\": \"Berlin, Dahlem...</td>\n",
       "      <td>https://www.zobodat.at/pdf/Maerkische-Ent-Nach...</td>\n",
       "      <td>True</td>\n",
       "      <td>train</td>\n",
       "    </tr>\n",
       "    <tr>\n",
       "      <th>2</th>\n",
       "      <td>Beitrag zur Hautflüglerfauna von Bran-\\ndenbur...</td>\n",
       "      <td>paragraphs</td>\n",
       "      <td>```json\\n{\\n  \"meta_scientific_name\": \"Andrena...</td>\n",
       "      <td>https://www.zobodat.at/pdf/Maerkische-Ent-Nach...</td>\n",
       "      <td>True</td>\n",
       "      <td>train</td>\n",
       "    </tr>\n",
       "    <tr>\n",
       "      <th>...</th>\n",
       "      <td>...</td>\n",
       "      <td>...</td>\n",
       "      <td>...</td>\n",
       "      <td>...</td>\n",
       "      <td>...</td>\n",
       "      <td>...</td>\n",
       "    </tr>\n",
       "    <tr>\n",
       "      <th>27</th>\n",
       "      <td>Für das  Stadtgebiet Bielefeld nördlich des Te...</td>\n",
       "      <td>list_table</td>\n",
       "      <td>```json\\n{\\n  \"meta_location\": \"Nordrhein-West...</td>\n",
       "      <td>https://www.zobodat.at/pdf/Ber-Natwiss-Ver-Bie...</td>\n",
       "      <td>True</td>\n",
       "      <td>eval</td>\n",
       "    </tr>\n",
       "    <tr>\n",
       "      <th>28</th>\n",
       "      <td>Für das  Stadtgebiet Bielefeld nördlich des Te...</td>\n",
       "      <td>list_table</td>\n",
       "      <td>```json\\n{\\n  \"meta_location\": \"Nordrhein-West...</td>\n",
       "      <td>https://www.zobodat.at/pdf/Ber-Natwiss-Ver-Bie...</td>\n",
       "      <td>True</td>\n",
       "      <td>eval</td>\n",
       "    </tr>\n",
       "    <tr>\n",
       "      <th>29</th>\n",
       "      <td>Die Insekten des Naturschutzparkes\\nder Lünebu...</td>\n",
       "      <td>list_table</td>\n",
       "      <td>```json\\n{\\n  \"meta_location\": \"Lüneburger Hei...</td>\n",
       "      <td>https://www.zobodat.at/pdf/Abh-natwiss-Verein-...</td>\n",
       "      <td>True</td>\n",
       "      <td>eval</td>\n",
       "    </tr>\n",
       "  </tbody>\n",
       "</table>\n",
       "<p>170 rows × 6 columns</p>\n",
       "</div>"
      ],
      "text/plain": [
       "                                       report_passage report_scheme  \\\n",
       "0   Beitrag zur Hautflüglerfauna von Bran-\\ndenbur...    paragraphs   \n",
       "1   Christoph Saure\\n\\nHoplitis villosa (Schenck, ...    paragraphs   \n",
       "2   Beitrag zur Hautflüglerfauna von Bran-\\ndenbur...    paragraphs   \n",
       "..                                                ...           ...   \n",
       "27  Für das  Stadtgebiet Bielefeld nördlich des Te...    list_table   \n",
       "28  Für das  Stadtgebiet Bielefeld nördlich des Te...    list_table   \n",
       "29  Die Insekten des Naturschutzparkes\\nder Lünebu...    list_table   \n",
       "\n",
       "                                      gold_completion  \\\n",
       "0   ```json\\n{\\n  \"meta_scientific_name\": \"Andrena...   \n",
       "1   ```json\\n{\\n  \"meta_location\": \"Berlin, Dahlem...   \n",
       "2   ```json\\n{\\n  \"meta_scientific_name\": \"Andrena...   \n",
       "..                                                ...   \n",
       "27  ```json\\n{\\n  \"meta_location\": \"Nordrhein-West...   \n",
       "28  ```json\\n{\\n  \"meta_location\": \"Nordrhein-West...   \n",
       "29  ```json\\n{\\n  \"meta_location\": \"Lüneburger Hei...   \n",
       "\n",
       "                                               source  is_real  split  \n",
       "0   https://www.zobodat.at/pdf/Maerkische-Ent-Nach...     True  train  \n",
       "1   https://www.zobodat.at/pdf/Maerkische-Ent-Nach...     True  train  \n",
       "2   https://www.zobodat.at/pdf/Maerkische-Ent-Nach...     True  train  \n",
       "..                                                ...      ...    ...  \n",
       "27  https://www.zobodat.at/pdf/Ber-Natwiss-Ver-Bie...     True   eval  \n",
       "28  https://www.zobodat.at/pdf/Ber-Natwiss-Ver-Bie...     True   eval  \n",
       "29  https://www.zobodat.at/pdf/Abh-natwiss-Verein-...     True   eval  \n",
       "\n",
       "[170 rows x 6 columns]"
      ]
     },
     "execution_count": 5,
     "metadata": {},
     "output_type": "execute_result"
    }
   ],
   "source": [
    "#LOAD DATA\n",
    "from datasets import load_from_disk\n",
    "\n",
    "dataset_ds=load_from_disk('../beede_llm/data/beede_llm_dataset')\n",
    "dataset_ds\n",
    "\n",
    "train_df=pd.DataFrame(dataset_ds['train'])\n",
    "train_df['split']='train'\n",
    "\n",
    "eval_df=pd.DataFrame(dataset_ds['test'])\n",
    "eval_df['split']='eval'\n",
    "\n",
    "dataset_df=pd.concat([train_df,eval_df])\n",
    "dataset_df"
   ]
  },
  {
   "cell_type": "code",
   "execution_count": 7,
   "metadata": {},
   "outputs": [],
   "source": [
    "datah=Datahandle(\n",
    "    label='beede_llm_dataset',\n",
    "    data_df=dataset_df,\n",
    ")\n",
    "datah.config\n",
    "datah.save()"
   ]
  },
  {
   "cell_type": "code",
   "execution_count": 8,
   "metadata": {},
   "outputs": [],
   "source": [
    "reimport()"
   ]
  },
  {
   "cell_type": "code",
   "execution_count": 11,
   "metadata": {},
   "outputs": [],
   "source": [
    "experiment=ExtractionExperiment(\n",
    "    llm_pipe=LlamaPipeline(),\n",
    "    data_df=Datahandle(1),\n",
    "\n",
    "    extraction_pipe=ExtractionPipeline(\n",
    "        use_few_shots = True,\n",
    "        use_extraction_prompt = False\n",
    "    ),\n",
    "\n",
    "    num_train_epochs=2,\n",
    "    save_strategy='epoch',\n",
    "    save_total_limit=2,\n",
    "\n",
    "    do_eval_base_model=True,\n",
    "    do_eval_lora_model=True,\n",
    "    do_train=True\n",
    "    )\n",
    "\n",
    "experiment.config\n",
    "experiment.save()"
   ]
  },
  {
   "cell_type": "code",
   "execution_count": 16,
   "metadata": {},
   "outputs": [
    {
     "data": {
      "text/html": [
       "<div>\n",
       "<style scoped>\n",
       "    .dataframe tbody tr th:only-of-type {\n",
       "        vertical-align: middle;\n",
       "    }\n",
       "\n",
       "    .dataframe tbody tr th {\n",
       "        vertical-align: top;\n",
       "    }\n",
       "\n",
       "    .dataframe thead th {\n",
       "        text-align: right;\n",
       "    }\n",
       "</style>\n",
       "<table border=\"1\" class=\"dataframe\">\n",
       "  <thead>\n",
       "    <tr style=\"text-align: right;\">\n",
       "      <th></th>\n",
       "      <th>class_parts</th>\n",
       "      <th>id</th>\n",
       "      <th>label</th>\n",
       "      <th>done</th>\n",
       "      <th>num_train_epochs</th>\n",
       "      <th>do_eval_base_model</th>\n",
       "      <th>do_train</th>\n",
       "      <th>_path</th>\n",
       "    </tr>\n",
       "  </thead>\n",
       "  <tbody>\n",
       "    <tr>\n",
       "      <th>0</th>\n",
       "      <td>[FinetuningExperiment, ExtractionExperiment]</td>\n",
       "      <td>1</td>\n",
       "      <td>ExtractionExperiment</td>\n",
       "      <td>False</td>\n",
       "      <td>2</td>\n",
       "      <td>True</td>\n",
       "      <td>True</td>\n",
       "      <td>/home/fboehning/fboehning/extraction_lab/Finet...</td>\n",
       "    </tr>\n",
       "  </tbody>\n",
       "</table>\n",
       "</div>"
      ],
      "text/plain": [
       "                                    class_parts  id                 label  \\\n",
       "0  [FinetuningExperiment, ExtractionExperiment]   1  ExtractionExperiment   \n",
       "\n",
       "    done  num_train_epochs  do_eval_base_model  do_train  \\\n",
       "0  False                 2                True      True   \n",
       "\n",
       "                                               _path  \n",
       "0  /home/fboehning/fboehning/extraction_lab/Finet...  "
      ]
     },
     "execution_count": 16,
     "metadata": {},
     "output_type": "execute_result"
    }
   ],
   "source": [
    "experiments_df=FinetuningExperiment().get_overview(keypaths=['done','num_train_epochs','do_eval_base_model','do_train','_path'])\n",
    "experiments_df"
   ]
  },
  {
   "cell_type": "code",
   "execution_count": null,
   "metadata": {},
   "outputs": [],
   "source": []
  },
  {
   "cell_type": "code",
   "execution_count": 17,
   "metadata": {},
   "outputs": [
    {
     "data": {
      "text/plain": [
       "'/home/fboehning/fboehning/extraction_lab/FinetuningExperiment/ExtractionExperiment/0001_ExtractionExperiment'"
      ]
     },
     "execution_count": 17,
     "metadata": {},
     "output_type": "execute_result"
    }
   ],
   "source": [
    "experiments_df.iloc[0]._path"
   ]
  },
  {
   "cell_type": "code",
   "execution_count": null,
   "metadata": {},
   "outputs": [],
   "source": []
  }
 ],
 "metadata": {
  "kernelspec": {
   "display_name": "Python 3",
   "language": "python",
   "name": "python3"
  },
  "language_info": {
   "codemirror_mode": {
    "name": "ipython",
    "version": 3
   },
   "file_extension": ".py",
   "mimetype": "text/x-python",
   "name": "python",
   "nbconvert_exporter": "python",
   "pygments_lexer": "ipython3",
   "version": "3.12.2"
  }
 },
 "nbformat": 4,
 "nbformat_minor": 2
}
